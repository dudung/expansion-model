{
 "cells": [
  {
   "cell_type": "markdown",
   "id": "c2ac2b0b",
   "metadata": {},
   "source": [
    "# thermal_expansion_model\n",
    "Using everyday items a model to study thermal expansion of water can be built in supporting the understanding of sea-level rise [[1](#r01)], where the concept of thermal expansion includes linear, area, and volume expansions [[2](#r02)]."
   ]
  },
  {
   "cell_type": "markdown",
   "id": "c8b8cafb",
   "metadata": {},
   "source": [
    "## linear expansion\n",
    "A long thin rod with initial length $L_0$ at temperature $T$ will have fractional change in length at temperature $T + \\Delta T$ in the form of\n",
    "\n",
    "\\begin{equation}\\label{eqn:1}\\tag{1}\n",
    "\\frac{\\Delta L}{L_0} = \\alpha \\Delta T,\n",
    "\\end{equation}\n",
    "\n",
    "where $\\alpha$ is coefficient of linear expansion, which is unique for each type of materials [[3](#r03)]."
   ]
  },
  {
   "cell_type": "markdown",
   "id": "a55d7d44",
   "metadata": {},
   "source": [
    "## example\n",
    "There is a copper rod with coefficient of linear expansion $\\alpha = 16 \\times 10^{-6} \\ {\\rm m / (m \\cdot ^\\circ{}C)}$. Length of the rod is $1 \\ {\\rm m}$ at $T = 20 \\ {\\rm ^\\circ{}C}$. Find the length at temperature $30 \\ {\\rm ^\\circ{}C}$."
   ]
  },
  {
   "cell_type": "code",
   "execution_count": 1,
   "id": "7dd92bd7",
   "metadata": {},
   "outputs": [
    {
     "name": "stdout",
     "output_type": "stream",
     "text": [
      "T0 =  20 oC\n",
      "L0 =  1 m\n",
      "T =  30 oC\n",
      "L =  1.00016 m\n"
     ]
    }
   ],
   "source": [
    "# coefficient of linear expansion\n",
    "alpha = 16E-6\n",
    "\n",
    "# initial condition\n",
    "L0 = 1\n",
    "T0 = 20\n",
    "\n",
    "# final condition\n",
    "T = 30\n",
    "\n",
    "# calculation\n",
    "dT = T - T0\n",
    "dL = L0 * alpha * dT\n",
    "L = L0 + dL\n",
    "\n",
    "# results\n",
    "print(\"T0 = \", T0, \"oC\")\n",
    "print(\"L0 = \", L0, \"m\")\n",
    "print(\"T = \", T, \"oC\")\n",
    "print(\"L = \", L, \"m\")"
   ]
  },
  {
   "cell_type": "markdown",
   "id": "2d948898",
   "metadata": {},
   "source": [
    "## references\n",
    "1. <a name='r01'></a>Kim Orr (site manager), Luis Espinoza (webmaster), \"Thermal Expansion Model\", Jet Propulsion Laboratory, California Institute of Technology, 16 Nov 2020, url, <https://www.jpl.nasa.gov/edu/teach/activity/thermal-expansion-model/> [20220506].\n",
    "2. <a name='r02'></a>Carl Rod Nave, \"Thermal Expansion\", HyperPhysics, 2017, url <http://hyperphysics.phy-astr.gsu.edu/hbase/thermo/thexp.html> [20220506].\n",
    "3. <a name='r03'></a>-, \"Thermal Expansion - Linear Expansion Coefficients\", The Engineering ToolBox, 2003, url <https://www.engineeringtoolbox.com/linear-expansion-coefficients-d_95.html> [20220506]."
   ]
  }
 ],
 "metadata": {
  "authors": [
   {
    "name": "Sparisoma Viridi"
   }
  ],
  "kernelspec": {
   "display_name": "Python 3 (ipykernel)",
   "language": "python",
   "name": "python3"
  },
  "language_info": {
   "codemirror_mode": {
    "name": "ipython",
    "version": 3
   },
   "file_extension": ".py",
   "mimetype": "text/x-python",
   "name": "python",
   "nbconvert_exporter": "python",
   "pygments_lexer": "ipython3",
   "version": "3.10.4"
  },
  "title": "thermal_expansion_model"
 },
 "nbformat": 4,
 "nbformat_minor": 5
}
