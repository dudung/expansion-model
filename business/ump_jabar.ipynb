{
 "cells": [
  {
   "cell_type": "markdown",
   "id": "c2ac2b0b",
   "metadata": {},
   "source": [
    "# ump_jabar\n",
    "Terkait dengan UMP Jawa Barat."
   ]
  },
  {
   "cell_type": "markdown",
   "id": "0716edb8",
   "metadata": {},
   "source": [
    "## quote\n",
    "Upah Minimum Propinsi Jawa Barat untuk ke-27 kabupaten dan kotanya [[1](#r01)].\n",
    "\n",
    "```\n",
    "..\n",
    "\n",
    "KEPUTUSAN GUBERNUR JAWA BARAT\n",
    "NOMOR: 561/Kep.732-Kesra/2021\n",
    "\n",
    "TENTANG\n",
    "\n",
    "UPAH MINIMUM KABUPATEN/KOTA DI DAERAH\n",
    "PROVINSI JAWA BARAT TAHUN 2022\n",
    "\n",
    "..\n",
    "\n",
    "NO KABUPATEN/KOTA BESARAN (Rp)\n",
    "1 KOTA BEKASI 4.816.921,17\n",
    "2 KABUPATEN KARAWANG 4.798.312,00\n",
    "3 KABUPATEN BEKASI 4.791.843,90\n",
    "4 KOTA DEPOK 4.377.231,93\n",
    "5 KOTA BOGOR 4.330.249,57\n",
    "6 KABUPATEN BOGOR 4.217.206,00\n",
    "7 KABUPATEN PURWAKARTA 4.173.568,61\n",
    "8 KOTA BANDUNG 3.774.860,78\n",
    "9 KOTA CIMAHI 3.272.668,50\n",
    "10 KABUPATEN BANDUNG BARAT 3.248.283,28\n",
    "11 KABUPATEN SUMEDANG 3.241.929,67\n",
    "12 KABUPATEN BANDUNG 3.241.929,67\n",
    "13 KABUPATEN SUKABUMI 3.125.444,72\n",
    "14 KABUPATEN SUBANG 3.064.218,08\n",
    "15 KABUPATEN CIANJUR 2.699.814,40\n",
    "16 KOTA SUKABUMI 2.562.434,01\n",
    "17 KABUPATEN INDRAMAYU 2.391.567,15\n",
    "18 KOTA TASIKMALAYA 2.363.389,67\n",
    "19 KABUPATEN TASIKMALAYA 2.326.772,46\n",
    "20 KOTA CIREBON 2.304.943,51\n",
    "21 KABUPATEN CIREBON 2.279.982,77\n",
    "22 KABUPATEN MAJALENGKA 2.027.619,04\n",
    "23 KABUPATEN GARUT 1.975.220,92\n",
    "24 KABUPATEN KUNINGAN 1.908.102,17\n",
    "25 KABUPATEN CIAMIS 1.897.867,14\n",
    "26 KABUPATEN PANGANDARAN 1.884.364,08\n",
    "27 KOTA BANJAR 1.852.099,52\n",
    "\n",
    "..\n",
    "\n",
    "Ditetapkan di Bandung\n",
    "pada tanggal 30 November 2021\n",
    "GUBERNUR JAWA BARAT,\n",
    "\n",
    "ttd\n",
    "\n",
    "MOCHAMAD RIDWAN KAMIL\n",
    "```"
   ]
  },
  {
   "cell_type": "code",
   "execution_count": 2,
   "id": "60e89be7",
   "metadata": {},
   "outputs": [
    {
     "name": "stdout",
     "output_type": "stream",
     "text": [
      "\n",
      "1 KOTA BEKASI 4.816.921,17\n",
      "2 KABUPATEN KARAWANG 4.798.312,00\n",
      "3 KABUPATEN BEKASI 4.791.843,90\n",
      "4 KOTA DEPOK 4.377.231,93\n",
      "5 KOTA BOGOR 4.330.249,57\n",
      "6 KABUPATEN BOGOR 4.217.206,00\n",
      "7 KABUPATEN PURWAKARTA 4.173.568,61\n",
      "8 KOTA BANDUNG 3.774.860,78\n",
      "9 KOTA CIMAHI 3.272.668,50\n",
      "10 KABUPATEN BANDUNG BARAT 3.248.283,28\n",
      "11 KABUPATEN SUMEDANG 3.241.929,67\n",
      "12 KABUPATEN BANDUNG 3.241.929,67\n",
      "13 KABUPATEN SUKABUMI 3.125.444,72\n",
      "14 KABUPATEN SUBANG 3.064.218,08\n",
      "15 KABUPATEN CIANJUR 2.699.814,40\n",
      "16 KOTA SUKABUMI 2.562.434,01\n",
      "17 KABUPATEN INDRAMAYU 2.391.567,15\n",
      "18 KOTA TASIKMALAYA 2.363.389,67\n",
      "19 KABUPATEN TASIKMALAYA 2.326.772,46\n",
      "20 KOTA CIREBON 2.304.943,51\n",
      "21 KABUPATEN CIREBON 2.279.982,77\n",
      "22 KABUPATEN MAJALENGKA 2.027.619,04\n",
      "23 KABUPATEN GARUT 1.975.220,92\n",
      "24 KABUPATEN KUNINGAN 1.908.102,17\n",
      "25 KABUPATEN CIAMIS 1.897.867,14\n",
      "26 KABUPATEN PANGANDARAN 1.884.364,08\n",
      "27 KOTA BANJAR 1.852.099,52\n",
      "\n"
     ]
    }
   ],
   "source": [
    "ump_raw = \"\"\"\n",
    "1 KOTA BEKASI 4.816.921,17\n",
    "2 KABUPATEN KARAWANG 4.798.312,00\n",
    "3 KABUPATEN BEKASI 4.791.843,90\n",
    "4 KOTA DEPOK 4.377.231,93\n",
    "5 KOTA BOGOR 4.330.249,57\n",
    "6 KABUPATEN BOGOR 4.217.206,00\n",
    "7 KABUPATEN PURWAKARTA 4.173.568,61\n",
    "8 KOTA BANDUNG 3.774.860,78\n",
    "9 KOTA CIMAHI 3.272.668,50\n",
    "10 KABUPATEN BANDUNG BARAT 3.248.283,28\n",
    "11 KABUPATEN SUMEDANG 3.241.929,67\n",
    "12 KABUPATEN BANDUNG 3.241.929,67\n",
    "13 KABUPATEN SUKABUMI 3.125.444,72\n",
    "14 KABUPATEN SUBANG 3.064.218,08\n",
    "15 KABUPATEN CIANJUR 2.699.814,40\n",
    "16 KOTA SUKABUMI 2.562.434,01\n",
    "17 KABUPATEN INDRAMAYU 2.391.567,15\n",
    "18 KOTA TASIKMALAYA 2.363.389,67\n",
    "19 KABUPATEN TASIKMALAYA 2.326.772,46\n",
    "20 KOTA CIREBON 2.304.943,51\n",
    "21 KABUPATEN CIREBON 2.279.982,77\n",
    "22 KABUPATEN MAJALENGKA 2.027.619,04\n",
    "23 KABUPATEN GARUT 1.975.220,92\n",
    "24 KABUPATEN KUNINGAN 1.908.102,17\n",
    "25 KABUPATEN CIAMIS 1.897.867,14\n",
    "26 KABUPATEN PANGANDARAN 1.884.364,08\n",
    "27 KOTA BANJAR 1.852.099,52\n",
    "\"\"\"\n",
    "\n",
    "print(ump_raw)"
   ]
  },
  {
   "cell_type": "markdown",
   "id": "2d948898",
   "metadata": {},
   "source": [
    "## references\n",
    "1. <a name='r01'></a>Mochamad Ridwan Kamil, \"Upah Minimum Kabupaten/Kota di Daerah Provinsi Jawa Barat Tahun 2022\", Keputusan Gubernur Jawa Barat, nomor 561/Kep.732-Kesra/2021, Bandung, 30 November 2021, url <https://jdih.jabarprov.go.id/page/info/produk/26663> [20220513]."
   ]
  }
 ],
 "metadata": {
  "authors": [
   {
    "name": "Sparisoma Viridi"
   }
  ],
  "kernelspec": {
   "display_name": "Python 3 (ipykernel)",
   "language": "python",
   "name": "python3"
  },
  "language_info": {
   "codemirror_mode": {
    "name": "ipython",
    "version": 3
   },
   "file_extension": ".py",
   "mimetype": "text/x-python",
   "name": "python",
   "nbconvert_exporter": "python",
   "pygments_lexer": "ipython3",
   "version": "3.10.4"
  },
  "title": "ump_jabar"
 },
 "nbformat": 4,
 "nbformat_minor": 5
}
