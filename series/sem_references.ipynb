{
 "cells": [
  {
   "cell_type": "markdown",
   "id": "c2ac2b0b",
   "metadata": {},
   "source": [
    "# sem_references\n",
    "Some references used the phrase `series expansion model`."
   ]
  },
  {
   "cell_type": "markdown",
   "id": "2d948898",
   "metadata": {},
   "source": [
    "## references\n",
    "1. <a name='r01'></a>A. Colin Cameron, Per Johansson, \"Count Data Regression using Series Expansions: With Applications\", Journal of Applied Econometrics [J Appl Econom], vol 12, no 3, Special Issue: Econometric Models of Event Counts, p 203-223, May-Jun 1997, url <https://www.jstor.org/stable/2285246> [20220513].\n",
    "2. <a name='r02'></a>Fotini V. Katopodes, Robert L. Street, Joel H. Ferziger, \"A Theory for the Subfilter-Scale Model in Large-Eddy Simulation\", Technical Report 2000-K1, Environmental Fluid Mechanics Laboratory, Stanford, CA 94305-4020, Mar 2000, url <http://faculty.ce.berkeley.edu/chow/pubs/efmlreport2000-K1.pdf> [20220513]. \n",
    "3. <a name='r03'></a>B. Clerckx, E. Bayguzina, \"Waveform Design for Wireless Power Transfer,\" IEEE Transactions on Signal Processing [IEEE Trans Signal Process], vol 64, no 23, pp 6313-6328, Dec 2016, url <https://doi.org/10.1109/TSP.2016.2601284>."
   ]
  }
 ],
 "metadata": {
  "authors": [
   {
    "name": "Sparisoma Viridi"
   }
  ],
  "kernelspec": {
   "display_name": "Python 3 (ipykernel)",
   "language": "python",
   "name": "python3"
  },
  "language_info": {
   "codemirror_mode": {
    "name": "ipython",
    "version": 3
   },
   "file_extension": ".py",
   "mimetype": "text/x-python",
   "name": "python",
   "nbconvert_exporter": "python",
   "pygments_lexer": "ipython3",
   "version": "3.10.4"
  },
  "title": "sem_references"
 },
 "nbformat": 4,
 "nbformat_minor": 5
}
