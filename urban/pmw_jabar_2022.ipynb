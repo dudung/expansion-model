{
 "cells": [
  {
   "cell_type": "markdown",
   "id": "c2ac2b0b",
   "metadata": {},
   "source": [
    "# pmw_jabar\n",
    "Province Minimum Wage of Jawa Barat, Indonesia."
   ]
  },
  {
   "cell_type": "markdown",
   "id": "dbf07de8",
   "metadata": {},
   "source": [
    "## quote\n",
    "City and Regency Minimum Wage of Jawa Barat Province, Indonesia [[1](#r01)].\n",
    "\n",
    "```\n",
    "..\n",
    "\n",
    "KEPUTUSAN GUBERNUR JAWA BARAT\n",
    "NOMOR: 561/Kep.732-Kesra/2021\n",
    "\n",
    "TENTANG\n",
    "\n",
    "UPAH MINIMUM KABUPATEN/KOTA DI DAERAH\n",
    "PROVINSI JAWA BARAT TAHUN 2022\n",
    "\n",
    "..\n",
    "\n",
    "NO KABUPATEN/KOTA BESARAN (Rp)\n",
    "1 KOTA BEKASI 4.816.921,17\n",
    "2 KABUPATEN KARAWANG 4.798.312,00\n",
    "3 KABUPATEN BEKASI 4.791.843,90\n",
    "4 KOTA DEPOK 4.377.231,93\n",
    "5 KOTA BOGOR 4.330.249,57\n",
    "6 KABUPATEN BOGOR 4.217.206,00\n",
    "7 KABUPATEN PURWAKARTA 4.173.568,61\n",
    "8 KOTA BANDUNG 3.774.860,78\n",
    "9 KOTA CIMAHI 3.272.668,50\n",
    "10 KABUPATEN BANDUNG BARAT 3.248.283,28\n",
    "11 KABUPATEN SUMEDANG 3.241.929,67\n",
    "12 KABUPATEN BANDUNG 3.241.929,67\n",
    "13 KABUPATEN SUKABUMI 3.125.444,72\n",
    "14 KABUPATEN SUBANG 3.064.218,08\n",
    "15 KABUPATEN CIANJUR 2.699.814,40\n",
    "16 KOTA SUKABUMI 2.562.434,01\n",
    "17 KABUPATEN INDRAMAYU 2.391.567,15\n",
    "18 KOTA TASIKMALAYA 2.363.389,67\n",
    "19 KABUPATEN TASIKMALAYA 2.326.772,46\n",
    "20 KOTA CIREBON 2.304.943,51\n",
    "21 KABUPATEN CIREBON 2.279.982,77\n",
    "22 KABUPATEN MAJALENGKA 2.027.619,04\n",
    "23 KABUPATEN GARUT 1.975.220,92\n",
    "24 KABUPATEN KUNINGAN 1.908.102,17\n",
    "25 KABUPATEN CIAMIS 1.897.867,14\n",
    "26 KABUPATEN PANGANDARAN 1.884.364,08\n",
    "27 KOTA BANJAR 1.852.099,52\n",
    "\n",
    "..\n",
    "\n",
    "Ditetapkan di Bandung\n",
    "pada tanggal 30 November 2021\n",
    "GUBERNUR JAWA BARAT,\n",
    "\n",
    "ttd\n",
    "\n",
    "MOCHAMAD RIDWAN KAMIL\n",
    "```"
   ]
  },
  {
   "cell_type": "markdown",
   "id": "26fb0aa8",
   "metadata": {},
   "source": [
    "## convert multiline strings"
   ]
  },
  {
   "cell_type": "markdown",
   "id": "fc9e1fa2",
   "metadata": {},
   "source": [
    "### step 1\n",
    "Define a multiline string [[2](#r02)]."
   ]
  },
  {
   "cell_type": "code",
   "execution_count": 1,
   "id": "a75c69ed",
   "metadata": {},
   "outputs": [],
   "source": [
    "ump_raw = '''\n",
    "1 KOTA BEKASI 4.816.921,17\n",
    "2 KABUPATEN KARAWANG 4.798.312,00\n",
    "3 KABUPATEN BEKASI 4.791.843,90\n",
    "4 KOTA DEPOK 4.377.231,93\n",
    "5 KOTA BOGOR 4.330.249,57\n",
    "6 KABUPATEN BOGOR 4.217.206,00\n",
    "7 KABUPATEN PURWAKARTA 4.173.568,61\n",
    "8 KOTA BANDUNG 3.774.860,78\n",
    "9 KOTA CIMAHI 3.272.668,50\n",
    "10 KABUPATEN BANDUNG BARAT 3.248.283,28\n",
    "11 KABUPATEN SUMEDANG 3.241.929,67\n",
    "12 KABUPATEN BANDUNG 3.241.929,67\n",
    "13 KABUPATEN SUKABUMI 3.125.444,72\n",
    "14 KABUPATEN SUBANG 3.064.218,08\n",
    "15 KABUPATEN CIANJUR 2.699.814,40\n",
    "16 KOTA SUKABUMI 2.562.434,01\n",
    "17 KABUPATEN INDRAMAYU 2.391.567,15\n",
    "18 KOTA TASIKMALAYA 2.363.389,67\n",
    "19 KABUPATEN TASIKMALAYA 2.326.772,46\n",
    "20 KOTA CIREBON 2.304.943,51\n",
    "21 KABUPATEN CIREBON 2.279.982,77\n",
    "22 KABUPATEN MAJALENGKA 2.027.619,04\n",
    "23 KABUPATEN GARUT 1.975.220,92\n",
    "24 KABUPATEN KUNINGAN 1.908.102,17\n",
    "25 KABUPATEN CIAMIS 1.897.867,14\n",
    "26 KABUPATEN PANGANDARAN 1.884.364,08\n",
    "27 KOTA BANJAR 1.852.099,52\n",
    "'''"
   ]
  },
  {
   "cell_type": "markdown",
   "id": "9e04f170",
   "metadata": {},
   "source": [
    "### step 2\n",
    "Turn each line as into an element of a list [[3](#r03)]."
   ]
  },
  {
   "cell_type": "code",
   "execution_count": 2,
   "id": "7bc0aa1b",
   "metadata": {},
   "outputs": [
    {
     "name": "stdout",
     "output_type": "stream",
     "text": [
      "1 KOTA BEKASI 4.816.921,17\n",
      "2 KABUPATEN KARAWANG 4.798.312,00\n",
      "3 KABUPATEN BEKASI 4.791.843,90\n",
      "4 KOTA DEPOK 4.377.231,93\n",
      "5 KOTA BOGOR 4.330.249,57\n",
      "6 KABUPATEN BOGOR 4.217.206,00\n",
      "7 KABUPATEN PURWAKARTA 4.173.568,61\n",
      "8 KOTA BANDUNG 3.774.860,78\n",
      "9 KOTA CIMAHI 3.272.668,50\n",
      "10 KABUPATEN BANDUNG BARAT 3.248.283,28\n",
      "11 KABUPATEN SUMEDANG 3.241.929,67\n",
      "12 KABUPATEN BANDUNG 3.241.929,67\n",
      "13 KABUPATEN SUKABUMI 3.125.444,72\n",
      "14 KABUPATEN SUBANG 3.064.218,08\n",
      "15 KABUPATEN CIANJUR 2.699.814,40\n",
      "16 KOTA SUKABUMI 2.562.434,01\n",
      "17 KABUPATEN INDRAMAYU 2.391.567,15\n",
      "18 KOTA TASIKMALAYA 2.363.389,67\n",
      "19 KABUPATEN TASIKMALAYA 2.326.772,46\n",
      "20 KOTA CIREBON 2.304.943,51\n",
      "21 KABUPATEN CIREBON 2.279.982,77\n",
      "22 KABUPATEN MAJALENGKA 2.027.619,04\n",
      "23 KABUPATEN GARUT 1.975.220,92\n",
      "24 KABUPATEN KUNINGAN 1.908.102,17\n",
      "25 KABUPATEN CIAMIS 1.897.867,14\n",
      "26 KABUPATEN PANGANDARAN 1.884.364,08\n",
      "27 KOTA BANJAR 1.852.099,52\n"
     ]
    }
   ],
   "source": [
    "umk_str = ump_raw.splitlines()\n",
    "for i in umk_str:\n",
    "    if i != \"\":\n",
    "        print(i)"
   ]
  },
  {
   "cell_type": "markdown",
   "id": "fc39b34e",
   "metadata": {},
   "source": [
    "### step 3\n",
    "Get city name and wage value from a string  [[4](#r04)] (from a list) and put them in new list."
   ]
  },
  {
   "cell_type": "code",
   "execution_count": 3,
   "id": "c385da70",
   "metadata": {},
   "outputs": [
    {
     "name": "stdout",
     "output_type": "stream",
     "text": [
      "['KOTA BEKASI', '4.816.921,17']\n",
      "['KABUPATEN KARAWANG', '4.798.312,00']\n",
      "['KABUPATEN BEKASI', '4.791.843,90']\n",
      "['KOTA DEPOK', '4.377.231,93']\n",
      "['KOTA BOGOR', '4.330.249,57']\n",
      "['KABUPATEN BOGOR', '4.217.206,00']\n",
      "['KABUPATEN PURWAKARTA', '4.173.568,61']\n",
      "['KOTA BANDUNG', '3.774.860,78']\n",
      "['KOTA CIMAHI', '3.272.668,50']\n",
      "['KABUPATEN BANDUNG', 'BARAT']\n",
      "['KABUPATEN SUMEDANG', '3.241.929,67']\n",
      "['KABUPATEN BANDUNG', '3.241.929,67']\n",
      "['KABUPATEN SUKABUMI', '3.125.444,72']\n",
      "['KABUPATEN SUBANG', '3.064.218,08']\n",
      "['KABUPATEN CIANJUR', '2.699.814,40']\n",
      "['KOTA SUKABUMI', '2.562.434,01']\n",
      "['KABUPATEN INDRAMAYU', '2.391.567,15']\n",
      "['KOTA TASIKMALAYA', '2.363.389,67']\n",
      "['KABUPATEN TASIKMALAYA', '2.326.772,46']\n",
      "['KOTA CIREBON', '2.304.943,51']\n",
      "['KABUPATEN CIREBON', '2.279.982,77']\n",
      "['KABUPATEN MAJALENGKA', '2.027.619,04']\n",
      "['KABUPATEN GARUT', '1.975.220,92']\n",
      "['KABUPATEN KUNINGAN', '1.908.102,17']\n",
      "['KABUPATEN CIAMIS', '1.897.867,14']\n",
      "['KABUPATEN PANGANDARAN', '1.884.364,08']\n",
      "['KOTA BANJAR', '1.852.099,52']\n"
     ]
    }
   ],
   "source": [
    "umk_str_2 = []\n",
    "for i in umk_str:\n",
    "    if i != \"\":\n",
    "        j = i.split(' ')\n",
    "        city = j[1] + \" \" + j[2]\n",
    "        wage = j[3]\n",
    "        umk_str_2.append([city, wage])\n",
    "\n",
    "for i in umk_str_2:\n",
    "    print(i)"
   ]
  },
  {
   "cell_type": "markdown",
   "id": "2d948898",
   "metadata": {},
   "source": [
    "## references\n",
    "1. <a name='r01'></a>Mochamad Ridwan Kamil, \"Upah Minimum Kabupaten/Kota di Daerah Provinsi Jawa Barat Tahun 2022\", Keputusan Gubernur Jawa Barat, nomor 561/Kep.732-Kesra/2021, Bandung, 30 November 2021, url <https://jdih.jabarprov.go.id/page/info/produk/26663> [20220513].\n",
    "2. <a name='r02'></a>Al Sweigart, \"Chapter 6 – Manipulating Strings\", Automate the Boring Stuff with Python: Practical Programming for Total Beginners, No Starch Press, 2nd Edition, November 2019, url <https://automatetheboringstuff.com/chapter6/> [20220513], ISBN [9781593279929](https://isbnsearch.org/isbn/9781593279929).\n",
    "3. <a name='r03'></a>Chinmoy Lenka, \"Python String splitlines() Method\", GeeksforGeeks, 19 Aug 2021, url <https://www.geeksforgeeks.org/python-string-splitlines-method/> [20220513].\n",
    "4. <a name='r04'></a>-, \"Python String split() Method\", W3Schools, Refsnes Data, 2022, url <https://www.w3schools.com/python/ref_string_split.asp> [20220513]."
   ]
  }
 ],
 "metadata": {
  "authors": [
   {
    "name": "Sparisoma Viridi"
   }
  ],
  "kernelspec": {
   "display_name": "Python 3 (ipykernel)",
   "language": "python",
   "name": "python3"
  },
  "language_info": {
   "codemirror_mode": {
    "name": "ipython",
    "version": 3
   },
   "file_extension": ".py",
   "mimetype": "text/x-python",
   "name": "python",
   "nbconvert_exporter": "python",
   "pygments_lexer": "ipython3",
   "version": "3.10.4"
  },
  "title": "pmw_jabar_2022"
 },
 "nbformat": 4,
 "nbformat_minor": 5
}
