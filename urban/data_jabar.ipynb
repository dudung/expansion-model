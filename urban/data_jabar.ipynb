{
 "cells": [
  {
   "cell_type": "markdown",
   "id": "c2ac2b0b",
   "metadata": {},
   "source": [
    "# data_jabar\n",
    "Data of Jawa Barat, Indonesia."
   ]
  },
  {
   "cell_type": "code",
   "execution_count": 5,
   "id": "c671a820",
   "metadata": {},
   "outputs": [
    {
     "name": "stdout",
     "output_type": "stream",
     "text": [
      "{'01': {'Name': 'Kabupaten Bogor', 'Area': 2710.62, 'Population': 3827709, 'Wage': 4217206.0}}\n"
     ]
    }
   ],
   "source": [
    "JawaBarat = {\n",
    "    '01': {\n",
    "        'Name': \"Kabupaten Bogor\",\n",
    "        'Area': 2710.62,\n",
    "        'Population': 3827709,\n",
    "        'Wage': 4217206.00,\n",
    "    },\n",
    "    '02': {\n",
    "        'Name': \"Kabupaten Sukabumi\",\n",
    "        'Area': 4145.70,\n",
    "        'Population': 2438389,\n",
    "        'Wage': 3125444.72,\n",
    "    },\n",
    "    '03': {\n",
    "        'Name': \"Kabupaten Cianjur\",\n",
    "        'Area': 3840.16,\n",
    "        'Population': 2215850,\n",
    "        'Wage': 2699814.40,\n",
    "    },\n",
    "    '04': {\n",
    "        'Name': \"Kabupaten Bandung\",\n",
    "        'Area': 1767.96,\n",
    "        'Population': 3492356,\n",
    "        'Wage': 3241929.67,\n",
    "    },\n",
    "    '00': {\n",
    "        'Name': \"\",\n",
    "        'Area': 0,\n",
    "        'Population': 0,\n",
    "        'Wage': 0,\n",
    "    },\n",
    "    '00': {\n",
    "        'Name': \"\",\n",
    "        'Area': 0,\n",
    "        'Population': 0,\n",
    "        'Wage': 0,\n",
    "    },\n",
    "}\n",
    "\n",
    "print(JawaBarat)\n",
    "\n",
    "\n"
   ]
  },
  {
   "cell_type": "code",
   "execution_count": null,
   "id": "a811027f",
   "metadata": {},
   "outputs": [],
   "source": [
    "\"\"\"\n",
    "province[\"Ka Garut\"] =         ['05', 42,  21, 421, 3074.07, 2185392]\n",
    "province[\"Ka Tasikmalaya\"] =   ['06', 39,   0, 351, 2551.19, 1641787]\n",
    "province[\"Ka Ciamis\"] =        ['07', 26,   7, 258, 1414.71, 1203200]\n",
    "province[\"Ka Kuningan\"] =      ['08', 32,  15, 361, 1110.56, 1113003]\n",
    "province[\"Ka Cirebon\"] =       ['09', 40,  12, 412,  984.52, 2055780]\n",
    "province[\"Ka Majalengka\"] =    ['10', 26,  13, 330, 1204.24, 1239625]\n",
    "province[\"Ka Sumendang\"] =     ['11', 26,   7, 276, 1518.33, 1101346]\n",
    "province[\"Ka Indramayu\"] =     ['12', 31,   8, 309, 2040.11, 1823757]\n",
    "province[\"Ka Subang\"] =        ['13', 30,   8, 245, 1893.95, 1539120]\n",
    "province[\"Ka Purwakarta\"] =    ['14', 17,   9, 183,  825.74,  854137]\n",
    "province[\"Ka Karawang\"] =      ['15', 30,  12, 297, 1652.20, 1903115]\n",
    "province[\"Ka Bekasi\"] =        ['16', 23,   7, 180, 1224.88, 2484478]\n",
    "province[\"Ka Bandung Barat\"] = ['17', 16,   0, 165, 1305.77, 1550618]\n",
    "province[\"Ka Pangandaran\"]   = ['18', 10,   0,  93, 1010.00,  398603]\n",
    "province[\"Ko Bogor\"] =         ['71',  6,  68,   0,  118.50,  983156]\n",
    "province[\"Ko Sukabumi\"] =      ['72',  7,  33,   0,   48.25,  321154]\n",
    "province[\"Ko Bandung\"] =       ['73', 30, 151,   0,  167.67, 2341097]\n",
    "province[\"Ko Cirebon\"] =       ['74',  5,  22,   0,   37.36,  318269]\n",
    "province[\"Ko Bekasi\"] =        ['75', 12,  56,   0,  206.61, 2382689]\n",
    "province[\"Ko Depok\"] =         ['76', 11,  63,   0,  200.29, 1633095]\n",
    "province[\"Ko Cimahi\"] =        ['77',  3,  15,   0,   39.27,  513440]\n",
    "province[\"Ko Tasikmalaya\"] =   ['78', 10,   69,  0,  171.61,  678414]\n",
    "province[\"Ko Banjar\"] =        ['79',  4,    9, 16,  113.49,  190845]\n",
    "\"\"\""
   ]
  },
  {
   "cell_type": "code",
   "execution_count": null,
   "id": "92602acd",
   "metadata": {},
   "outputs": [],
   "source": [
    "ump_raw = '''\n",
    "1 KOTA BEKASI 4.816.921,17\n",
    "2 KABUPATEN KARAWANG 4.798.312,00\n",
    "3 KABUPATEN BEKASI 4.791.843,90\n",
    "4 KOTA DEPOK 4.377.231,93\n",
    "5 KOTA BOGOR 4.330.249,57\n",
    "7 KABUPATEN PURWAKARTA 4.173.568,61\n",
    "8 KOTA BANDUNG 3.774.860,78\n",
    "9 KOTA CIMAHI 3.272.668,50\n",
    "10 KABUPATEN BANDUNG BARAT 3.248.283,28\n",
    "11 KABUPATEN SUMEDANG 3.241.929,67\n",
    "\n",
    "12 KABUPATEN BANDUNG\n",
    "\n",
    "14 KABUPATEN SUBANG 3.064.218,08\n",
    "16 KOTA SUKABUMI 2.562.434,01\n",
    "17 KABUPATEN INDRAMAYU 2.391.567,15\n",
    "18 KOTA TASIKMALAYA 2.363.389,67\n",
    "19 KABUPATEN TASIKMALAYA 2.326.772,46\n",
    "20 KOTA CIREBON 2.304.943,51\n",
    "21 KABUPATEN CIREBON 2.279.982,77\n",
    "22 KABUPATEN MAJALENGKA 2.027.619,04\n",
    "23 KABUPATEN GARUT 1.975.220,92\n",
    "24 KABUPATEN KUNINGAN 1.908.102,17\n",
    "25 KABUPATEN CIAMIS 1.897.867,14\n",
    "26 KABUPATEN PANGANDARAN 1.884.364,08\n",
    "27 KOTA BANJAR 1.852.099,52\n",
    "'''"
   ]
  }
 ],
 "metadata": {
  "authors": [
   {
    "name": "Sparisoma Viridi"
   }
  ],
  "kernelspec": {
   "display_name": "Python 3 (ipykernel)",
   "language": "python",
   "name": "python3"
  },
  "language_info": {
   "codemirror_mode": {
    "name": "ipython",
    "version": 3
   },
   "file_extension": ".py",
   "mimetype": "text/x-python",
   "name": "python",
   "nbconvert_exporter": "python",
   "pygments_lexer": "ipython3",
   "version": "3.10.4"
  },
  "title": "data_jabar"
 },
 "nbformat": 4,
 "nbformat_minor": 5
}
