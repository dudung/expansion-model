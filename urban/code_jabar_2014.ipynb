{
 "cells": [
  {
   "cell_type": "markdown",
   "id": "c2ac2b0b",
   "metadata": {},
   "source": [
    "# code_jabar_2014\n",
    "Jawa Barat Province code, area, and population in 2014 [[1](#r01)]."
   ]
  },
  {
   "cell_type": "markdown",
   "id": "6102058d",
   "metadata": {},
   "source": [
    "## quote\n",
    "Table is not clean, since there are some inconsistent empty cells.\n",
    "```\n",
    "1 32.01 KAB. BOGOR 40 17 417 2.710,62 3.827.709\n",
    " 2 32.02 KAB. SUKABUMI 47 5 381 4.145,70 2.438.389\n",
    " 3 32.03 KAB. CIANJUR 32 6 354 3.840,16 2.215.850\n",
    " 4 32.04 KAB. BANDUNG 31 10 270 1.767,96 3.492.356\n",
    " 5 32.05 KAB. GARUT 42 21 421 3.074,07 2.185.392 Data luas wil. berdasarkan GIS Pusat, 2007\n",
    " 6 32.06 KAB. TASIKMALAYA 39 0 351 2.551,19 1.641.787\n",
    " 7 32.07 KAB. CIAMIS 26 7 258 1.414,71 1.203.200\n",
    " 8 32.08 KAB. KUNINGAN 32 15 361 1.110,56 1.113.003\n",
    " 9 32.09 KAB. CIREBON 40 12 412 984,52 2.055.780\n",
    " 10 32.10 KAB. MAJALENGKA 26 13 330 1.204,24 1.239.625\n",
    " 11 32.11 KAB. SUMEDANG 26 7 276 1.518,33 1.101.346\n",
    " 12 32.12 KAB. INDRAMAYU 31 8 309 2.040,11 1.823.757\n",
    " 13 32.13 KAB. SUBANG 30 8 245 1.893,95 1.539.120\n",
    " 14 32.14 KAB. PURWAKARTA 17 9 183 825,74 854.137\n",
    " 15 32.15 KAB. KARAWANG 30 12 297 1.652,20 1.903.115\n",
    " 16 32.16 KAB. BEKASI 23 7 180 1.224,88 2.484.478\n",
    " 17 32.17 KAB. BANDUNG BARAT 16 0 165 1.305,77 1.550.618 UU No. 12/2007\n",
    " 18 32.18 KAB. PANGANDARAN 10 0 93 1.010,00 398.603 Luas Wil. Berdasarkan UU. No. 21 Tahun 2012\n",
    " 19 32.71 KOTA BOGOR 6 68 118,50 983.156\n",
    " 20 32.72 KOTA SUKABUMI 7 33 48,25 321.154\n",
    " 21 32.73 KOTA BANDUNG 30 151 167,67 2.341.097\n",
    " 22 32.74 KOTA CIREBON 5 22 37,36 318.269\n",
    " 23 32.75 KOTA BEKASI 12 56 206,61 2.382.689 Data luas wil. berdasarkan GIS Pusat, 2007\n",
    " 24 32.76 KOTA DEPOK 11 63 200,29 1.633.095\n",
    " 25 32.77 KOTA CIMAHI 3 15 39,27 513.440\n",
    " 26 32.78 KOTA TASIKMALAYA 10 69 171,61 678.414\n",
    " 27 32.79 KOTA BANJAR 4 9 16 113,49 190.845\n",
    "J U M L A H 626 643 5.319 35.377,76 42.430.424\n",
    " ```"
   ]
  },
  {
   "cell_type": "markdown",
   "id": "7362c88a",
   "metadata": {},
   "source": [
    "## data\n",
    "A multiline"
   ]
  },
  {
   "cell_type": "code",
   "execution_count": 1,
   "id": "9a6f9901",
   "metadata": {},
   "outputs": [
    {
     "data": {
      "text/plain": [
       "'\\n1 32.01 KAB. BOGOR 40 17 417 2.710,62 3.827.709\\n2 32.02 KAB. SUKABUMI 47 5 381 4.145,70 2.438.389\\n3 32.03 KAB. CIANJUR 32 6 354 3.840,16 2.215.850\\n4 32.04 KAB. BANDUNG 31 10 270 1.767,96 3.492.356\\n5 32.05 KAB. GARUT 42 21 421 3.074,07 2.185.392\\n6 32.06 KAB. TASIKMALAYA 39 0 351 2.551,19 1.641.787\\n7 32.07 KAB. CIAMIS 26 7 258 1.414,71 1.203.200\\n8 32.08 KAB. KUNINGAN 32 15 361 1.110,56 1.113.003\\n9 32.09 KAB. CIREBON 40 12 412 984,52 2.055.780\\n10 32.10 KAB. MAJALENGKA 26 13 330 1.204,24 1.239.625\\n11 32.11 KAB. SUMEDANG 26 7 276 1.518,33 1.101.346\\n12 32.12 KAB. INDRAMAYU 31 8 309 2.040,11 1.823.757\\n13 32.13 KAB. SUBANG 30 8 245 1.893,95 1.539.120\\n14 32.14 KAB. PURWAKARTA 17 9 183 825,74 854.137\\n15 32.15 KAB. KARAWANG 30 12 297 1.652,20 1.903.115\\n16 32.16 KAB. BEKASI 23 7 180 1.224,88 2.484.478\\n17 32.17 KAB. BANDUNG BARAT 16 0 165 1.305,77 1.550.618\\n18 32.18 KAB. PANGANDARAN 10 0 93 1.010,00 398.603\\n19 32.71 KOTA BOGOR 6 68 0 118,50 983.156\\n20 32.72 KOTA SUKABUMI 7 33 0 48,25 321.154\\n21 32.73 KOTA BANDUNG 30 151 0 167,67 2.341.097\\n22 32.74 KOTA CIREBON 5 22 0 37,36 318.269\\n23 32.75 KOTA BEKASI 12 56 0 206,61 2.382.689\\n24 32.76 KOTA DEPOK 11 63 0 200,29 1.633.095\\n25 32.77 KOTA CIMAHI 3 15 0 39,27 513.440\\n26 32.78 KOTA TASIKMALAYA 10 69 0 171,61 678.414\\n27 32.79 KOTA BANJAR 4 9 16 113,49 190.845\\n'"
      ]
     },
     "execution_count": 1,
     "metadata": {},
     "output_type": "execute_result"
    }
   ],
   "source": [
    "\"\"\"\n",
    "1 32.01 KAB. BOGOR 40 17 417 2.710,62 3.827.709\n",
    "2 32.02 KAB. SUKABUMI 47 5 381 4.145,70 2.438.389\n",
    "3 32.03 KAB. CIANJUR 32 6 354 3.840,16 2.215.850\n",
    "4 32.04 KAB. BANDUNG 31 10 270 1.767,96 3.492.356\n",
    "5 32.05 KAB. GARUT 42 21 421 3.074,07 2.185.392\n",
    "6 32.06 KAB. TASIKMALAYA 39 0 351 2.551,19 1.641.787\n",
    "7 32.07 KAB. CIAMIS 26 7 258 1.414,71 1.203.200\n",
    "8 32.08 KAB. KUNINGAN 32 15 361 1.110,56 1.113.003\n",
    "9 32.09 KAB. CIREBON 40 12 412 984,52 2.055.780\n",
    "10 32.10 KAB. MAJALENGKA 26 13 330 1.204,24 1.239.625\n",
    "11 32.11 KAB. SUMEDANG 26 7 276 1.518,33 1.101.346\n",
    "12 32.12 KAB. INDRAMAYU 31 8 309 2.040,11 1.823.757\n",
    "13 32.13 KAB. SUBANG 30 8 245 1.893,95 1.539.120\n",
    "14 32.14 KAB. PURWAKARTA 17 9 183 825,74 854.137\n",
    "15 32.15 KAB. KARAWANG 30 12 297 1.652,20 1.903.115\n",
    "16 32.16 KAB. BEKASI 23 7 180 1.224,88 2.484.478\n",
    "17 32.17 KAB. BANDUNG BARAT 16 0 165 1.305,77 1.550.618\n",
    "18 32.18 KAB. PANGANDARAN 10 0 93 1.010,00 398.603\n",
    "19 32.71 KOTA BOGOR 6 68 0 118,50 983.156\n",
    "20 32.72 KOTA SUKABUMI 7 33 0 48,25 321.154\n",
    "21 32.73 KOTA BANDUNG 30 151 0 167,67 2.341.097\n",
    "22 32.74 KOTA CIREBON 5 22 0 37,36 318.269\n",
    "23 32.75 KOTA BEKASI 12 56 0 206,61 2.382.689\n",
    "24 32.76 KOTA DEPOK 11 63 0 200,29 1.633.095\n",
    "25 32.77 KOTA CIMAHI 3 15 0 39,27 513.440\n",
    "26 32.78 KOTA TASIKMALAYA 10 69 0 171,61 678.414\n",
    "27 32.79 KOTA BANJAR 4 9 16 113,49 190.845\n",
    "\"\"\""
   ]
  },
  {
   "cell_type": "markdown",
   "id": "160fb079",
   "metadata": {},
   "source": [
    "Data is obtained manually and not previous show string."
   ]
  },
  {
   "cell_type": "code",
   "execution_count": 2,
   "id": "03fd84f6",
   "metadata": {},
   "outputs": [
    {
     "name": "stdout",
     "output_type": "stream",
     "text": [
      "KabKot Cod Kec Kel Des Are Pop\n",
      "01 Ka Bogor ['01', 40, 17, 417, 2710.62, 3827709]\n",
      "02 Ka Sukabumi ['02', 47, 5, 381, 4145.7, 2438389]\n",
      "03 Ka Cianjur ['03', 32, 6, 354, 3840.16, 2215850]\n",
      "04 Ka Bandung ['04', 31, 10, 270, 1767.96, 3492356]\n",
      "05 Ka Garut ['05', 42, 21, 421, 3074.07, 2185392]\n",
      "06 Ka Tasikmalaya ['06', 39, 0, 351, 2551.19, 1641787]\n",
      "07 Ka Ciamis ['07', 26, 7, 258, 1414.71, 1203200]\n",
      "08 Ka Kuningan ['08', 32, 15, 361, 1110.56, 1113003]\n",
      "09 Ka Cirebon ['09', 40, 12, 412, 984.52, 2055780]\n",
      "10 Ka Majalengka ['10', 26, 13, 330, 1204.24, 1239625]\n",
      "11 Ka Sumendang ['11', 26, 7, 276, 1518.33, 1101346]\n",
      "12 Ka Indramayu ['12', 31, 8, 309, 2040.11, 1823757]\n",
      "13 Ka Subang ['13', 30, 8, 245, 1893.95, 1539120]\n",
      "14 Ka Purwakarta ['14', 17, 9, 183, 825.74, 854137]\n",
      "15 Ka Karawang ['15', 30, 12, 297, 1652.2, 1903115]\n",
      "16 Ka Bekasi ['16', 23, 7, 180, 1224.88, 2484478]\n",
      "17 Ka Bandung Barat ['17', 16, 0, 165, 1305.77, 1550618]\n",
      "18 Ka Pangandaran ['18', 10, 0, 93, 1010.0, 398603]\n",
      "19 Ko Bogor ['71', 6, 68, 0, 118.5, 983156]\n",
      "20 Ko Sukabumi ['72', 7, 33, 0, 48.25, 321154]\n",
      "21 Ko Bandung ['73', 30, 151, 0, 167.67, 2341097]\n",
      "22 Ko Cirebon ['74', 5, 22, 0, 37.36, 318269]\n",
      "23 Ko Bekasi ['75', 12, 56, 0, 206.61, 2382689]\n",
      "24 Ko Depok ['76', 11, 63, 0, 200.29, 1633095]\n",
      "25 Ko Cimahi ['77', 3, 15, 0, 39.27, 513440]\n",
      "26 Ko Tasikmalaya ['78', 10, 69, 0, 171.61, 678414]\n",
      "27 Ko Banjar ['79', 4, 9, 16, 113.49, 190845]\n"
     ]
    }
   ],
   "source": [
    "code = 32\n",
    "province = {}\n",
    "\n",
    "# Code Kec Kel Des Are Pop\n",
    "province[\"Ka Bogor\"] =         ['01', 40,  17, 417, 2710.62, 3827709]\n",
    "province[\"Ka Sukabumi\"] =      ['02', 47,   5, 381, 4145.70, 2438389]\n",
    "province[\"Ka Cianjur\"] =       ['03', 32,   6, 354, 3840.16, 2215850]\n",
    "province[\"Ka Bandung\"] =       ['04', 31,  10, 270, 1767.96, 3492356]\n",
    "province[\"Ka Garut\"] =         ['05', 42,  21, 421, 3074.07, 2185392]\n",
    "province[\"Ka Tasikmalaya\"] =   ['06', 39,   0, 351, 2551.19, 1641787]\n",
    "province[\"Ka Ciamis\"] =        ['07', 26,   7, 258, 1414.71, 1203200]\n",
    "province[\"Ka Kuningan\"] =      ['08', 32,  15, 361, 1110.56, 1113003]\n",
    "province[\"Ka Cirebon\"] =       ['09', 40,  12, 412,  984.52, 2055780]\n",
    "province[\"Ka Majalengka\"] =    ['10', 26,  13, 330, 1204.24, 1239625]\n",
    "province[\"Ka Sumendang\"] =     ['11', 26,   7, 276, 1518.33, 1101346]\n",
    "province[\"Ka Indramayu\"] =     ['12', 31,   8, 309, 2040.11, 1823757]\n",
    "province[\"Ka Subang\"] =        ['13', 30,   8, 245, 1893.95, 1539120]\n",
    "province[\"Ka Purwakarta\"] =    ['14', 17,   9, 183,  825.74,  854137]\n",
    "province[\"Ka Karawang\"] =      ['15', 30,  12, 297, 1652.20, 1903115]\n",
    "province[\"Ka Bekasi\"] =        ['16', 23,   7, 180, 1224.88, 2484478]\n",
    "province[\"Ka Bandung Barat\"] = ['17', 16,   0, 165, 1305.77, 1550618]\n",
    "province[\"Ka Pangandaran\"]   = ['18', 10,   0,  93, 1010.00,  398603]\n",
    "province[\"Ko Bogor\"] =         ['71',  6,  68,   0,  118.50,  983156]\n",
    "province[\"Ko Sukabumi\"] =      ['72',  7,  33,   0,   48.25,  321154]\n",
    "province[\"Ko Bandung\"] =       ['73', 30, 151,   0,  167.67, 2341097]\n",
    "province[\"Ko Cirebon\"] =       ['74',  5,  22,   0,   37.36,  318269]\n",
    "province[\"Ko Bekasi\"] =        ['75', 12,  56,   0,  206.61, 2382689]\n",
    "province[\"Ko Depok\"] =         ['76', 11,  63,   0,  200.29, 1633095]\n",
    "province[\"Ko Cimahi\"] =        ['77',  3,  15,   0,   39.27,  513440]\n",
    "province[\"Ko Tasikmalaya\"] =   ['78', 10,   69,  0,  171.61,  678414]\n",
    "province[\"Ko Banjar\"] =        ['79',  4,    9, 16,  113.49,  190845]\n",
    "\n",
    "print(\"KabKot Cod Kec Kel Des Are Pop\")\n",
    "i = 1\n",
    "for c in province:\n",
    "    print(f'{i:02n}', end=' ')\n",
    "    print(c, province[c])\n",
    "    i += 1"
   ]
  },
  {
   "cell_type": "markdown",
   "id": "2d948898",
   "metadata": {},
   "source": [
    "## references\n",
    "1. <a name='r01'></a>-, \"Rekapitulasi Kode dan Data Wilayah Administrasi Pemerintahan Provinsi Jawa Barat\", Jaringan Dokumentasi & Informasi Hukum Propinsi Sulawesi Barat, 2014, url <https://jdih.sulbarprov.go.id/view/download.php?page=peraturan&id=1757> [20220512]."
   ]
  }
 ],
 "metadata": {
  "authors": [
   {
    "name": "Sparisoma Viridi"
   }
  ],
  "kernelspec": {
   "display_name": "Python 3 (ipykernel)",
   "language": "python",
   "name": "python3"
  },
  "language_info": {
   "codemirror_mode": {
    "name": "ipython",
    "version": 3
   },
   "file_extension": ".py",
   "mimetype": "text/x-python",
   "name": "python",
   "nbconvert_exporter": "python",
   "pygments_lexer": "ipython3",
   "version": "3.10.4"
  },
  "title": "code_jabar_2014"
 },
 "nbformat": 4,
 "nbformat_minor": 5
}
