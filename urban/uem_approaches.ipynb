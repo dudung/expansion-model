{
 "cells": [
  {
   "cell_type": "markdown",
   "id": "c2ac2b0b",
   "metadata": {},
   "source": [
    "# uem_approaches\n",
    "Throughout the 1950s and 1970s expansion of cities into their surrounding areas, in the form of suburbanization and ex-urbanization, was following urbanization as first witnessed in the West, which is a constant outwards expansion of urban areas driven traditionally by spatial expansion and accompanied by population growth within the areas [[1](#r01)]. Urban Expansion Model (UEM) is used to forecast heat island intensification globally [[2](#r02)]."
   ]
  },
  {
   "cell_type": "markdown",
   "id": "a7aacd4c",
   "metadata": {},
   "source": [
    "## approaches\n",
    "Different approaches are used in UEM, e.g.\n",
    "+ multi agent-based for Changsha city, China [[3](#r03)],\n",
    "+ multi-agent system and cellular automata for area of Changsha-Zhuzhou-Xiangtan urban agglomeration, China [[4](#r04)],\n",
    "+ coupling agent-based, cellular automata and logistic regression into a hybrid urban expansion model (HUEM) for Wallonia, Belgium [[5](#r05)],\n",
    "+ an enhanced support vector machine model for Guilford County, North Carolina, USA [[6](#r06)],\n",
    "+ geospatial information system and artificial neural networks for Tehran Metropolitan Area, Iran [[7](#r07)]."
   ]
  },
  {
   "cell_type": "markdown",
   "id": "2d948898",
   "metadata": {},
   "source": [
    "## references\n",
    "1. <a name='r01'></a>Qiang Li, \"The Urban Expansion Model\", In China’s Development Under a Differential Urbanization Model, Research Series on the Chinese Dream and China’s Development Path, Springer, Singapore, 2020, p 219–241, url <https://doi.org/10.1007/978-981-13-9451-5_7>.\n",
    "2. <a name='r02'></a>Kangning Huang, \"Forecasting Urban Land Expansion and\n",
    "Heat Island Intensification Globally through 2050\", Hixon Center Report, 2018, url <https://hixon.yale.edu/sites/default/files/files/fellows/paper/hixon_report_2018-kangning_huang.pdf> [20220507].\n",
    "3. <a name='r03'></a>Honghui Zhang, Yongnian Zeng, Ling Bian, Xijun Yu, \"Modelling urban expansion using a multi agent-based model in the city of Changsha\", Journal of Geographical Sciences [J Geogr Sci],  vol 20, no 4, p 540–556, Aug 2010, url <https://doi.org/10.1007/s11442-010-0540-z>.\n",
    "4. <a name='r04'></a>Y. N. Zeng, M. M. Yu, S. N. Li, \"Urban Expansion Modeling Approach based on Multi-Agent System and Cellular Automata\", The International Archives of the Photogrammetry, Remote Sensing and Spatial Information Sciences [Int Arch Photogramm Remote Sens Spatial Inf Sci], vol XLII-3, no, p 2219–2223, Apr 2018, url <http://dx.doi.org/10.5194/isprs-archives-XLII-3-2219-2018>.\n",
    "5. <a name='r05'></a>Ahmed Mustafa, Mario Cools, Ismaïl Saadi, Jacques Teller, \"Coupling Agent-based, Cellular Automata and Logistic Regression into a Hybrid Urban Expansion Model (HUEM)\", Land Use Policy [Land Use Policy], vol 69, no, p 529-540, Dec 2017, url <https://doi.org/10.1016/j.landusepol.2017.10.009>.\n",
    "6. <a name='r06'></a>Firoozeh Karimi, Selima Sultana. Ali Shirzadi Babakan, Shan Suthaharan, \"An Enhanced Support Vector Machine Model for Urban Expansion Prediction\", Computers, Environment and Urban Systems [Comput Environ Urban Syst], vol 75, p 61-75, May 2019, url <https://doi.org/10.1016/j.compenvurbsys.2019.01.001>.\n",
    "7. <a name='r07'></a>B. C. Pijanowski, Amin Tayebi, M. R. Delavar, M. J. Yazdanpanah, \"Urban Expansion Simulation Using Geospatial Information System And Artificial Neural Networks\", International Journal of Environmental Research [Int J Environ Res], vol 3, no 4, p 493-502, Fall 2009, url <https://www.sid.ir/en/Journal/ViewPaper.aspx?ID=158304> [20220507]."
   ]
  }
 ],
 "metadata": {
  "authors": [
   {
    "name": "Sparisoma Viridi"
   }
  ],
  "kernelspec": {
   "display_name": "Python 3 (ipykernel)",
   "language": "python",
   "name": "python3"
  },
  "language_info": {
   "codemirror_mode": {
    "name": "ipython",
    "version": 3
   },
   "file_extension": ".py",
   "mimetype": "text/x-python",
   "name": "python",
   "nbconvert_exporter": "python",
   "pygments_lexer": "ipython3",
   "version": "3.10.4"
  },
  "title": "uem_approaches"
 },
 "nbformat": 4,
 "nbformat_minor": 5
}
