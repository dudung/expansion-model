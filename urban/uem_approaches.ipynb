{
 "cells": [
  {
   "cell_type": "markdown",
   "id": "c2ac2b0b",
   "metadata": {},
   "source": [
    "# uem_approaches\n",
    "Throughout the 1950s and 1970s expansion of cities into their surrounding areas, in the form of suburbanization and ex-urbanization, was following urbanization as first witnessed in the West, which is a constant outwards expansion of urban areas driven traditionally by spatial expansion and accompanied by population growth within the areas [[1](#r01)]. Urban Expansion Model (UEM) is used to forecast heat island intensification globally [[2](#r02)]."
   ]
  },
  {
   "cell_type": "markdown",
   "id": "f368b0e6",
   "metadata": {},
   "source": [
    "## approaches\n",
    "Different approaches are used in UEM\n",
    "+ ..\n",
    "+ ..\n",
    "+ ..\n",
    "+ ..\n",
    "+ .."
   ]
  },
  {
   "cell_type": "markdown",
   "id": "2d948898",
   "metadata": {},
   "source": [
    "## references\n",
    "1. <a name='r01'></a>Qiang Li, \"The Urban Expansion Model\", In China’s Development Under a Differential Urbanization Model, Research Series on the Chinese Dream and China’s Development Path, Springer, Singapore, 2020, p 219–241, url <https://doi.org/10.1007/978-981-13-9451-5_7>.\n",
    "2. <a name='r02'></a>Kangning Huang, \"Forecasting Urban Land Expansion and\n",
    "Heat Island Intensification Globally through 2050\", Hixon Center Report, 2018, url <https://hixon.yale.edu/sites/default/files/files/fellows/paper/hixon_report_2018-kangning_huang.pdf> [20220507].\n",
    "\n",
    "3. <a name='r03'></a>url <https://doi.org/10.1007/s11442-010-0540-z>.\n",
    "\n",
    "4. <a name='r04'></a>url <http://dx.doi.org/10.5194/isprs-archives-XLII-3-2219-2018>.\n",
    "\n",
    "5. <a name='r05'></a>url <https://doi.org/10.1016/j.landusepol.2017.10.009>.\n",
    "\n",
    "6. <a name='r06'></a>url <https://doi.org/10.1016/j.compenvurbsys.2019.01.001>.\n",
    "\n",
    "7. <a name='r07'></a>url <https://www.sid.ir/en/Journal/ViewPaper.aspx?ID=158304> [20220507].\n"
   ]
  },
  {
   "cell_type": "code",
   "execution_count": null,
   "id": "bb7dbc7f",
   "metadata": {},
   "outputs": [],
   "source": []
  }
 ],
 "metadata": {
  "authors": [
   {
    "name": "Sparisoma Viridi"
   }
  ],
  "kernelspec": {
   "display_name": "Python 3 (ipykernel)",
   "language": "python",
   "name": "python3"
  },
  "language_info": {
   "codemirror_mode": {
    "name": "ipython",
    "version": 3
   },
   "file_extension": ".py",
   "mimetype": "text/x-python",
   "name": "python",
   "nbconvert_exporter": "python",
   "pygments_lexer": "ipython3",
   "version": "3.10.4"
  },
  "title": "uem_approaches"
 },
 "nbformat": 4,
 "nbformat_minor": 5
}
